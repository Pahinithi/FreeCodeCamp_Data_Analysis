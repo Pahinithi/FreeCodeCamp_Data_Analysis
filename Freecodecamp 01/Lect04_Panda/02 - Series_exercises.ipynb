{
 "cells": [
  {
   "cell_type": "markdown",
   "id": "bb988657",
   "metadata": {},
   "source": [
    "# Pandas Series exercises"
   ]
  },
  {
   "cell_type": "code",
   "execution_count": 1,
   "id": "d8774f10",
   "metadata": {},
   "outputs": [
    {
     "name": "stdout",
     "output_type": "stream",
     "text": [
      "2.0.3\n"
     ]
    }
   ],
   "source": [
    "# Import the numpy package under the name np\n",
    "import numpy as np\n",
    "\n",
    "# Import the pandas package under the name pd\n",
    "import pandas as pd\n",
    "\n",
    "# Print the pandas version and the configuration\n",
    "print(pd.__version__)"
   ]
  },
  {
   "cell_type": "markdown",
   "id": "8147dbf5",
   "metadata": {},
   "source": [
    "# Series creation\n",
    "Create an empty pandas Series\n"
   ]
  },
  {
   "cell_type": "code",
   "execution_count": 2,
   "id": "d305fcc2",
   "metadata": {},
   "outputs": [
    {
     "data": {
      "text/plain": [
       "Series([], dtype: object)"
      ]
     },
     "execution_count": 2,
     "metadata": {},
     "output_type": "execute_result"
    }
   ],
   "source": [
    "pd.Series()"
   ]
  },
  {
   "cell_type": "markdown",
   "id": "b3551b76",
   "metadata": {},
   "source": [
    "# Given the X python list convert it to an Y pandas Series\n"
   ]
  },
  {
   "cell_type": "code",
   "execution_count": 3,
   "id": "ebf2b257",
   "metadata": {},
   "outputs": [
    {
     "name": "stdout",
     "output_type": "stream",
     "text": [
      "['A', 'B', 'C'] <class 'list'>\n",
      "0    A\n",
      "1    B\n",
      "2    C\n",
      "dtype: object <class 'pandas.core.series.Series'>\n"
     ]
    }
   ],
   "source": [
    "X = ['A','B','C']\n",
    "print(X, type(X))\n",
    "\n",
    "Y = pd.Series(X)\n",
    "print(Y, type(Y)) # different type"
   ]
  },
  {
   "cell_type": "markdown",
   "id": "f635220c",
   "metadata": {},
   "source": [
    "# Given the X pandas Series, name it 'My letters'"
   ]
  },
  {
   "cell_type": "code",
   "execution_count": 4,
   "id": "612cc0cb",
   "metadata": {},
   "outputs": [
    {
     "data": {
      "text/plain": [
       "0    A\n",
       "1    B\n",
       "2    C\n",
       "Name: My letters, dtype: object"
      ]
     },
     "execution_count": 4,
     "metadata": {},
     "output_type": "execute_result"
    }
   ],
   "source": [
    "X = pd.Series(['A','B','C'])\n",
    "\n",
    "X.name = 'My letters'\n",
    "X"
   ]
  },
  {
   "cell_type": "markdown",
   "id": "415c1046",
   "metadata": {},
   "source": [
    "# Given the X pandas Series, show its values"
   ]
  },
  {
   "cell_type": "code",
   "execution_count": 5,
   "id": "ce8ccd04",
   "metadata": {},
   "outputs": [
    {
     "data": {
      "text/plain": [
       "array(['A', 'B', 'C'], dtype=object)"
      ]
     },
     "execution_count": 5,
     "metadata": {},
     "output_type": "execute_result"
    }
   ],
   "source": [
    "X = pd.Series(['A','B','C'])\n",
    "\n",
    "X.values"
   ]
  },
  {
   "cell_type": "markdown",
   "id": "d0ec7859",
   "metadata": {},
   "source": [
    "# Series indexation\n",
    "Assign index names to the given X pandas Series"
   ]
  },
  {
   "cell_type": "code",
   "execution_count": 6,
   "id": "703c74a8",
   "metadata": {},
   "outputs": [
    {
     "data": {
      "text/plain": [
       "first     A\n",
       "second    B\n",
       "third     C\n",
       "dtype: object"
      ]
     },
     "execution_count": 6,
     "metadata": {},
     "output_type": "execute_result"
    }
   ],
   "source": [
    "X = pd.Series(['A','B','C'])\n",
    "index_names = ['first', 'second', 'third']\n",
    "\n",
    "X.index = index_names\n",
    "X"
   ]
  },
  {
   "cell_type": "markdown",
   "id": "e93d23c8",
   "metadata": {},
   "source": [
    "# Given the X pandas Series, show its first element"
   ]
  },
  {
   "cell_type": "code",
   "execution_count": 7,
   "id": "b65546b9",
   "metadata": {},
   "outputs": [
    {
     "data": {
      "text/plain": [
       "'A'"
      ]
     },
     "execution_count": 7,
     "metadata": {},
     "output_type": "execute_result"
    }
   ],
   "source": [
    "X = pd.Series(['A','B','C'], index=['first', 'second', 'third'])\n",
    "\n",
    "#X[0] # by position\n",
    "#X.iloc[0] # by position\n",
    "X['first'] # by index"
   ]
  },
  {
   "cell_type": "markdown",
   "id": "24d03602",
   "metadata": {},
   "source": [
    "# Given the X pandas Series, show its last element"
   ]
  },
  {
   "cell_type": "code",
   "execution_count": 8,
   "id": "e391c369",
   "metadata": {},
   "outputs": [
    {
     "data": {
      "text/plain": [
       "'C'"
      ]
     },
     "execution_count": 8,
     "metadata": {},
     "output_type": "execute_result"
    }
   ],
   "source": [
    "X = pd.Series(['A','B','C'], index=['first', 'second', 'third'])\n",
    "\n",
    "#X[-1] # by position\n",
    "#X.iloc[-1] # by position\n",
    "X['third'] # by index"
   ]
  },
  {
   "cell_type": "markdown",
   "id": "39c7eb12",
   "metadata": {},
   "source": [
    "# Given the X pandas Series, show all middle elements"
   ]
  },
  {
   "cell_type": "code",
   "execution_count": 9,
   "id": "a153e53f",
   "metadata": {},
   "outputs": [
    {
     "data": {
      "text/plain": [
       "second    B\n",
       "third     C\n",
       "forth     D\n",
       "dtype: object"
      ]
     },
     "execution_count": 9,
     "metadata": {},
     "output_type": "execute_result"
    }
   ],
   "source": [
    "X = pd.Series(['A','B','C','D','E'],\n",
    "              index=['first','second','third','forth','fifth'])\n",
    "\n",
    "#X[['second', 'third', 'forth']]\n",
    "#X.iloc[1:-1] # by position\n",
    "X[1:-1] # by position"
   ]
  },
  {
   "cell_type": "markdown",
   "id": "ad145797",
   "metadata": {},
   "source": [
    "# Given the X pandas Series, show the elements in reverse position"
   ]
  },
  {
   "cell_type": "code",
   "execution_count": 10,
   "id": "9511d1ac",
   "metadata": {},
   "outputs": [
    {
     "data": {
      "text/plain": [
       "fifth     E\n",
       "forth     D\n",
       "third     C\n",
       "second    B\n",
       "first     A\n",
       "dtype: object"
      ]
     },
     "execution_count": 10,
     "metadata": {},
     "output_type": "execute_result"
    }
   ],
   "source": [
    "X = pd.Series(['A','B','C','D','E'],\n",
    "              index=['first','second','third','forth','fifth'])\n",
    "\n",
    "#X.iloc[::-1]\n",
    "X[::-1]"
   ]
  },
  {
   "cell_type": "markdown",
   "id": "7ac73bf3",
   "metadata": {},
   "source": [
    "# Given the X pandas Series, show the first and last elements"
   ]
  },
  {
   "cell_type": "code",
   "execution_count": 11,
   "id": "5663dc64",
   "metadata": {},
   "outputs": [
    {
     "data": {
      "text/plain": [
       "first    A\n",
       "fifth    E\n",
       "dtype: object"
      ]
     },
     "execution_count": 11,
     "metadata": {},
     "output_type": "execute_result"
    }
   ],
   "source": [
    "X = pd.Series(['A','B','C','D','E'],\n",
    "              index=['first','second','third','forth','fifth'])\n",
    "\n",
    "#X[['first', 'fifth']]\n",
    "#X.iloc[[0, -1]]\n",
    "X[[0, -1]]"
   ]
  },
  {
   "cell_type": "markdown",
   "id": "936ed5a9",
   "metadata": {},
   "source": [
    "# Series manipulation\n",
    "\n",
    "\n",
    "Convert the given integer pandas Series to float"
   ]
  },
  {
   "cell_type": "code",
   "execution_count": 12,
   "id": "7c87d31f",
   "metadata": {},
   "outputs": [
    {
     "name": "stderr",
     "output_type": "stream",
     "text": [
      "/var/folders/pd/vwqlxmsj1g79wbmb63_1mgnm0000gn/T/ipykernel_39749/3515785985.py:4: DeprecationWarning: `np.float` is a deprecated alias for the builtin `float`. To silence this warning, use `float` by itself. Doing this will not modify any behavior and is safe. If you specifically wanted the numpy scalar type, use `np.float64` here.\n",
      "Deprecated in NumPy 1.20; for more details and guidance: https://numpy.org/devdocs/release/1.20.0-notes.html#deprecations\n",
      "  pd.Series(X, dtype=np.float)\n"
     ]
    },
    {
     "data": {
      "text/plain": [
       "first     1.0\n",
       "second    2.0\n",
       "third     3.0\n",
       "forth     4.0\n",
       "fifth     5.0\n",
       "dtype: float64"
      ]
     },
     "execution_count": 12,
     "metadata": {},
     "output_type": "execute_result"
    }
   ],
   "source": [
    "X = pd.Series([1,2,3,4,5],\n",
    "              index=['first','second','third','forth','fifth'])\n",
    "\n",
    "pd.Series(X, dtype=np.float)"
   ]
  },
  {
   "cell_type": "markdown",
   "id": "c35bd598",
   "metadata": {},
   "source": [
    "# Reverse the given pandas Series (first element becomes last)\n"
   ]
  },
  {
   "cell_type": "code",
   "execution_count": 13,
   "id": "0db64de1",
   "metadata": {},
   "outputs": [
    {
     "data": {
      "text/plain": [
       "fifth     5\n",
       "forth     4\n",
       "third     3\n",
       "second    2\n",
       "first     1\n",
       "dtype: int64"
      ]
     },
     "execution_count": 13,
     "metadata": {},
     "output_type": "execute_result"
    }
   ],
   "source": [
    "X = pd.Series([1,2,3,4,5],\n",
    "              index=['first','second','third','forth','fifth'])\n",
    "\n",
    "X[::-1]"
   ]
  },
  {
   "cell_type": "markdown",
   "id": "75c5f6dd",
   "metadata": {},
   "source": [
    "# Order (sort) the given pandas Series\n"
   ]
  },
  {
   "cell_type": "code",
   "execution_count": 14,
   "id": "bce9856c",
   "metadata": {},
   "outputs": [
    {
     "data": {
      "text/plain": [
       "first     1\n",
       "second    2\n",
       "third     3\n",
       "forth     4\n",
       "fifth     5\n",
       "dtype: int64"
      ]
     },
     "execution_count": 14,
     "metadata": {},
     "output_type": "execute_result"
    }
   ],
   "source": [
    "X = pd.Series([4,2,5,1,3],\n",
    "              index=['forth','second','fifth','first','third'])\n",
    "\n",
    "X = X.sort_values()\n",
    "X"
   ]
  },
  {
   "cell_type": "markdown",
   "id": "d2f7a718",
   "metadata": {},
   "source": [
    "# Given the X pandas Series, set the fifth element equal to 10\n"
   ]
  },
  {
   "cell_type": "code",
   "execution_count": 15,
   "id": "f3ef4b46",
   "metadata": {},
   "outputs": [
    {
     "data": {
      "text/plain": [
       "A     1\n",
       "B     2\n",
       "C     3\n",
       "D     4\n",
       "E    10\n",
       "dtype: int64"
      ]
     },
     "execution_count": 15,
     "metadata": {},
     "output_type": "execute_result"
    }
   ],
   "source": [
    "X = pd.Series([1,2,3,4,5],\n",
    "              index=['A','B','C','D','E'])\n",
    "\n",
    "X[4] = 10\n",
    "X"
   ]
  },
  {
   "cell_type": "markdown",
   "id": "6ffa183a",
   "metadata": {},
   "source": [
    "# Given the X pandas Series, change all the middle elements to 0\n"
   ]
  },
  {
   "cell_type": "code",
   "execution_count": 16,
   "id": "2312d362",
   "metadata": {},
   "outputs": [
    {
     "data": {
      "text/plain": [
       "A    1\n",
       "B    0\n",
       "C    0\n",
       "D    0\n",
       "E    5\n",
       "dtype: int64"
      ]
     },
     "execution_count": 16,
     "metadata": {},
     "output_type": "execute_result"
    }
   ],
   "source": [
    "X = pd.Series([1,2,3,4,5],\n",
    "              index=['A','B','C','D','E'])\n",
    "\n",
    "X[1:-1] = 0\n",
    "X"
   ]
  },
  {
   "cell_type": "markdown",
   "id": "2e7348b7",
   "metadata": {},
   "source": [
    "# Given the X pandas Series, add 5 to every element\n"
   ]
  },
  {
   "cell_type": "code",
   "execution_count": 17,
   "id": "3c95a70f",
   "metadata": {},
   "outputs": [
    {
     "data": {
      "text/plain": [
       "0     6\n",
       "1     7\n",
       "2     8\n",
       "3     9\n",
       "4    10\n",
       "dtype: int64"
      ]
     },
     "execution_count": 17,
     "metadata": {},
     "output_type": "execute_result"
    }
   ],
   "source": [
    "X = pd.Series([1,2,3,4,5])\n",
    "\n",
    "X + 5"
   ]
  },
  {
   "cell_type": "markdown",
   "id": "c17accab",
   "metadata": {},
   "source": [
    "# Series boolean arrays (also called masks)\n",
    "\n",
    "\n",
    "Given the X pandas Series, make a mask showing negative elements"
   ]
  },
  {
   "cell_type": "code",
   "execution_count": 18,
   "id": "2c57deb4",
   "metadata": {},
   "outputs": [
    {
     "data": {
      "text/plain": [
       "0     True\n",
       "1    False\n",
       "2     True\n",
       "3     True\n",
       "4    False\n",
       "5    False\n",
       "6     True\n",
       "7     True\n",
       "8     True\n",
       "9    False\n",
       "dtype: bool"
      ]
     },
     "execution_count": 18,
     "metadata": {},
     "output_type": "execute_result"
    }
   ],
   "source": [
    "X = pd.Series([-1,2,0,-4,5,6,0,0,-9,10])\n",
    "\n",
    "mask = X <= 0\n",
    "mask"
   ]
  },
  {
   "cell_type": "markdown",
   "id": "7d4d5d89",
   "metadata": {},
   "source": [
    "# Given the X pandas Series, get the negative elements\n"
   ]
  },
  {
   "cell_type": "code",
   "execution_count": 19,
   "id": "6948943a",
   "metadata": {},
   "outputs": [
    {
     "data": {
      "text/plain": [
       "0   -1\n",
       "2    0\n",
       "3   -4\n",
       "6    0\n",
       "7    0\n",
       "8   -9\n",
       "dtype: int64"
      ]
     },
     "execution_count": 19,
     "metadata": {},
     "output_type": "execute_result"
    }
   ],
   "source": [
    "X = pd.Series([-1,2,0,-4,5,6,0,0,-9,10])\n",
    "\n",
    "mask = X <= 0\n",
    "X[mask]"
   ]
  },
  {
   "cell_type": "markdown",
   "id": "4a438e2a",
   "metadata": {},
   "source": [
    "# Given the X pandas Series, get numbers higher than 5\n"
   ]
  },
  {
   "cell_type": "code",
   "execution_count": 20,
   "id": "a4d59d7b",
   "metadata": {},
   "outputs": [
    {
     "data": {
      "text/plain": [
       "5     6\n",
       "9    10\n",
       "dtype: int64"
      ]
     },
     "execution_count": 20,
     "metadata": {},
     "output_type": "execute_result"
    }
   ],
   "source": [
    "X = pd.Series([-1,2,0,-4,5,6,0,0,-9,10])\n",
    "\n",
    "mask = X > 5\n",
    "X[mask]"
   ]
  },
  {
   "cell_type": "markdown",
   "id": "da07a830",
   "metadata": {},
   "source": [
    "# Given the X pandas Series, get numbers higher than the elements mean\n"
   ]
  },
  {
   "cell_type": "code",
   "execution_count": 21,
   "id": "ebbe6dde",
   "metadata": {},
   "outputs": [
    {
     "data": {
      "text/plain": [
       "1     2\n",
       "4     5\n",
       "5     6\n",
       "9    10\n",
       "dtype: int64"
      ]
     },
     "execution_count": 21,
     "metadata": {},
     "output_type": "execute_result"
    }
   ],
   "source": [
    "X = pd.Series([-1,2,0,-4,5,6,0,0,-9,10])\n",
    "\n",
    "mask = X > X.mean()\n",
    "X[mask]"
   ]
  },
  {
   "cell_type": "markdown",
   "id": "0a9e7bed",
   "metadata": {},
   "source": [
    "# Given the X pandas Series, get numbers equal to 2 or 10\n"
   ]
  },
  {
   "cell_type": "code",
   "execution_count": 22,
   "id": "4c7d9abe",
   "metadata": {},
   "outputs": [
    {
     "data": {
      "text/plain": [
       "1     2\n",
       "9    10\n",
       "dtype: int64"
      ]
     },
     "execution_count": 22,
     "metadata": {},
     "output_type": "execute_result"
    }
   ],
   "source": [
    "X = pd.Series([-1,2,0,-4,5,6,0,0,-9,10])\n",
    "\n",
    "mask = (X == 2) | (X == 10)\n",
    "X[mask]"
   ]
  },
  {
   "cell_type": "markdown",
   "id": "b9e2c614",
   "metadata": {},
   "source": [
    "# Logic functions\n",
    "\n",
    "Given the X pandas Series, return True if none of its elements is zero"
   ]
  },
  {
   "cell_type": "code",
   "execution_count": 23,
   "id": "311d16ef",
   "metadata": {},
   "outputs": [
    {
     "data": {
      "text/plain": [
       "False"
      ]
     },
     "execution_count": 23,
     "metadata": {},
     "output_type": "execute_result"
    }
   ],
   "source": [
    "X = pd.Series([-1,2,0,-4,5,6,0,0,-9,10])\n",
    "\n",
    "X.all()"
   ]
  },
  {
   "cell_type": "markdown",
   "id": "a6cf70c7",
   "metadata": {},
   "source": [
    "# Given the X pandas Series, return True if any of its elements is zero\n"
   ]
  },
  {
   "cell_type": "code",
   "execution_count": 24,
   "id": "ce90bf31",
   "metadata": {},
   "outputs": [
    {
     "data": {
      "text/plain": [
       "True"
      ]
     },
     "execution_count": 24,
     "metadata": {},
     "output_type": "execute_result"
    }
   ],
   "source": [
    "X = pd.Series([-1,2,0,-4,5,6,0,0,-9,10])\n",
    "\n",
    "X.any()"
   ]
  },
  {
   "cell_type": "markdown",
   "id": "791a4586",
   "metadata": {},
   "source": [
    "# Summary statistics\n",
    "\n",
    "Given the X pandas Series, show the sum of its elements"
   ]
  },
  {
   "cell_type": "code",
   "execution_count": 25,
   "id": "d58816a2",
   "metadata": {},
   "outputs": [
    {
     "data": {
      "text/plain": [
       "43"
      ]
     },
     "execution_count": 25,
     "metadata": {},
     "output_type": "execute_result"
    }
   ],
   "source": [
    "X = pd.Series([3,5,6,7,2,3,4,9,4])\n",
    "\n",
    "#np.sum(X)\n",
    "X.sum()"
   ]
  },
  {
   "cell_type": "markdown",
   "id": "22f9f100",
   "metadata": {},
   "source": [
    "# Given the X pandas Series, show the mean value of its elements\n"
   ]
  },
  {
   "cell_type": "code",
   "execution_count": 26,
   "id": "6bf83d91",
   "metadata": {},
   "outputs": [
    {
     "data": {
      "text/plain": [
       "3.7"
      ]
     },
     "execution_count": 26,
     "metadata": {},
     "output_type": "execute_result"
    }
   ],
   "source": [
    "X = pd.Series([1,2,0,4,5,6,0,0,9,10])\n",
    "\n",
    "#np.mean(X)\n",
    "X.mean()"
   ]
  },
  {
   "cell_type": "markdown",
   "id": "1627af60",
   "metadata": {},
   "source": [
    "# Given the X pandas Series, show the max value of its elements\n"
   ]
  },
  {
   "cell_type": "code",
   "execution_count": 27,
   "id": "f3353ca4",
   "metadata": {},
   "outputs": [
    {
     "data": {
      "text/plain": [
       "10"
      ]
     },
     "execution_count": 27,
     "metadata": {},
     "output_type": "execute_result"
    }
   ],
   "source": [
    "X = pd.Series([1,2,0,4,5,6,0,0,9,10])\n",
    "\n",
    "#np.max(X)\n",
    "X.max()"
   ]
  }
 ],
 "metadata": {
  "kernelspec": {
   "display_name": "Python 3 (ipykernel)",
   "language": "python",
   "name": "python3"
  },
  "language_info": {
   "codemirror_mode": {
    "name": "ipython",
    "version": 3
   },
   "file_extension": ".py",
   "mimetype": "text/x-python",
   "name": "python",
   "nbconvert_exporter": "python",
   "pygments_lexer": "ipython3",
   "version": "3.11.5"
  }
 },
 "nbformat": 4,
 "nbformat_minor": 5
}
